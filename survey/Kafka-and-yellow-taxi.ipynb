{
 "cells": [
  {
   "cell_type": "markdown",
   "id": "bf333e52",
   "metadata": {},
   "source": [
    "Suppose you have `polars` installed."
   ]
  },
  {
   "cell_type": "code",
   "execution_count": 1,
   "id": "5bd3d441",
   "metadata": {},
   "outputs": [],
   "source": [
    "import polars as pl\n",
    "\n",
    "trips = pl.read_parquet(\"yellow_tripdata_2025-08.parquet\")"
   ]
  },
  {
   "cell_type": "code",
   "execution_count": 3,
   "id": "8c0f49fe",
   "metadata": {},
   "outputs": [
    {
     "name": "stdout",
     "output_type": "stream",
     "text": [
      "Shape: (3574091, 20)\n",
      "\n",
      "Columns and dtypes:\n",
      "[Int32, Datetime(time_unit='us', time_zone=None), Datetime(time_unit='us', time_zone=None), Int64, Float64, Int64, String, Int32, Int32, Int64, Float64, Float64, Float64, Float64, Float64, Float64, Float64, Float64, Float64, Float64]\n",
      "\n",
      "Head:\n",
      "shape: (5, 20)\n",
      "┌──────────┬───────────┬───────────┬───────────┬───┬───────────┬───────────┬───────────┬───────────┐\n",
      "│ VendorID ┆ tpep_pick ┆ tpep_drop ┆ passenger ┆ … ┆ total_amo ┆ congestio ┆ Airport_f ┆ cbd_conge │\n",
      "│ ---      ┆ up_dateti ┆ off_datet ┆ _count    ┆   ┆ unt       ┆ n_surchar ┆ ee        ┆ stion_fee │\n",
      "│ i32      ┆ me        ┆ ime       ┆ ---       ┆   ┆ ---       ┆ ge        ┆ ---       ┆ ---       │\n",
      "│          ┆ ---       ┆ ---       ┆ i64       ┆   ┆ f64       ┆ ---       ┆ f64       ┆ f64       │\n",
      "│          ┆ datetime[ ┆ datetime[ ┆           ┆   ┆           ┆ f64       ┆           ┆           │\n",
      "│          ┆ μs]       ┆ μs]       ┆           ┆   ┆           ┆           ┆           ┆           │\n",
      "╞══════════╪═══════════╪═══════════╪═══════════╪═══╪═══════════╪═══════════╪═══════════╪═══════════╡\n",
      "│ 2        ┆ 2025-08-0 ┆ 2025-08-0 ┆ 1         ┆ … ┆ 57.49     ┆ 2.5       ┆ 1.75      ┆ 0.0       │\n",
      "│          ┆ 1         ┆ 1         ┆           ┆   ┆           ┆           ┆           ┆           │\n",
      "│          ┆ 00:52:23  ┆ 01:12:20  ┆           ┆   ┆           ┆           ┆           ┆           │\n",
      "│ 2        ┆ 2025-08-0 ┆ 2025-08-0 ┆ 2         ┆ … ┆ 30.45     ┆ 0.0       ┆ 1.75      ┆ 0.0       │\n",
      "│          ┆ 1         ┆ 1         ┆           ┆   ┆           ┆           ┆           ┆           │\n",
      "│          ┆ 00:03:01  ┆ 00:15:33  ┆           ┆   ┆           ┆           ┆           ┆           │\n",
      "│ 7        ┆ 2025-08-0 ┆ 2025-08-0 ┆ 2         ┆ … ┆ 23.94     ┆ 2.5       ┆ 0.0       ┆ 0.75      │\n",
      "│          ┆ 1         ┆ 1         ┆           ┆   ┆           ┆           ┆           ┆           │\n",
      "│          ┆ 00:24:38  ┆ 00:24:38  ┆           ┆   ┆           ┆           ┆           ┆           │\n",
      "│ 7        ┆ 2025-08-0 ┆ 2025-08-0 ┆ 1         ┆ … ┆ 20.58     ┆ 2.5       ┆ 0.0       ┆ 0.75      │\n",
      "│          ┆ 1         ┆ 1         ┆           ┆   ┆           ┆           ┆           ┆           │\n",
      "│          ┆ 00:48:19  ┆ 00:48:19  ┆           ┆   ┆           ┆           ┆           ┆           │\n",
      "│ 2        ┆ 2025-08-0 ┆ 2025-08-0 ┆ 1         ┆ … ┆ 19.72     ┆ 2.5       ┆ 0.0       ┆ 0.75      │\n",
      "│          ┆ 1         ┆ 1         ┆           ┆   ┆           ┆           ┆           ┆           │\n",
      "│          ┆ 00:25:34  ┆ 00:33:18  ┆           ┆   ┆           ┆           ┆           ┆           │\n",
      "└──────────┴───────────┴───────────┴───────────┴───┴───────────┴───────────┴───────────┴───────────┘\n",
      "\n",
      "Summary statistics:\n",
      "shape: (9, 21)\n",
      "┌───────────┬───────────┬───────────┬───────────┬───┬───────────┬───────────┬───────────┬──────────┐\n",
      "│ statistic ┆ VendorID  ┆ tpep_pick ┆ tpep_drop ┆ … ┆ total_amo ┆ congestio ┆ Airport_f ┆ cbd_cong │\n",
      "│ ---       ┆ ---       ┆ up_dateti ┆ off_datet ┆   ┆ unt       ┆ n_surchar ┆ ee        ┆ estion_f │\n",
      "│ str       ┆ f64       ┆ me        ┆ ime       ┆   ┆ ---       ┆ ge        ┆ ---       ┆ ee       │\n",
      "│           ┆           ┆ ---       ┆ ---       ┆   ┆ f64       ┆ ---       ┆ f64       ┆ ---      │\n",
      "│           ┆           ┆ str       ┆ str       ┆   ┆           ┆ f64       ┆           ┆ f64      │\n",
      "╞═══════════╪═══════════╪═══════════╪═══════════╪═══╪═══════════╪═══════════╪═══════════╪══════════╡\n",
      "│ count     ┆ 3.574091e ┆ 3574091   ┆ 3574091   ┆ … ┆ 3.574091e ┆ 2.687857e ┆ 2.687857e ┆ 3.574091 │\n",
      "│           ┆ 6         ┆           ┆           ┆   ┆ 6         ┆ 6         ┆ 6         ┆ e6       │\n",
      "│ null_coun ┆ 0.0       ┆ 0         ┆ 0         ┆ … ┆ 0.0       ┆ 886234.0  ┆ 886234.0  ┆ 0.0      │\n",
      "│ t         ┆           ┆           ┆           ┆   ┆           ┆           ┆           ┆          │\n",
      "│ mean      ┆ 1.885322  ┆ 2025-08-1 ┆ 2025-08-1 ┆ … ┆ 26.388754 ┆ 2.096993  ┆ 0.168826  ┆ 0.528672 │\n",
      "│           ┆           ┆ 6 11:23:1 ┆ 6 11:40:3 ┆   ┆           ┆           ┆           ┆          │\n",
      "│           ┆           ┆ 7.404097  ┆ 4.198549  ┆   ┆           ┆           ┆           ┆          │\n",
      "│ std       ┆ 0.716091  ┆ null      ┆ null      ┆ … ┆ 25.200414 ┆ 1.056319  ┆ 0.572484  ┆ 0.364996 │\n",
      "│ min       ┆ 1.0       ┆ 2009-01-0 ┆ 2009-01-0 ┆ … ┆ -1151.23  ┆ -2.5      ┆ -1.75     ┆ -0.75    │\n",
      "│           ┆           ┆ 1         ┆ 1         ┆   ┆           ┆           ┆           ┆          │\n",
      "│           ┆           ┆ 12:52:15  ┆ 13:12:15  ┆   ┆           ┆           ┆           ┆          │\n",
      "│ 25%       ┆ 2.0       ┆ 2025-08-0 ┆ 2025-08-0 ┆ … ┆ 15.16     ┆ 2.5       ┆ 0.0       ┆ 0.0      │\n",
      "│           ┆           ┆ 8         ┆ 8         ┆   ┆           ┆           ┆           ┆          │\n",
      "│           ┆           ┆ 15:50:02  ┆ 16:10:07  ┆   ┆           ┆           ┆           ┆          │\n",
      "│ 50%       ┆ 2.0       ┆ 2025-08-1 ┆ 2025-08-1 ┆ … ┆ 20.7      ┆ 2.5       ┆ 0.0       ┆ 0.75     │\n",
      "│           ┆           ┆ 6         ┆ 6         ┆   ┆           ┆           ┆           ┆          │\n",
      "│           ┆           ┆ 10:23:00  ┆ 10:38:01  ┆   ┆           ┆           ┆           ┆          │\n",
      "│ 75%       ┆ 2.0       ┆ 2025-08-2 ┆ 2025-08-2 ┆ … ┆ 30.28     ┆ 2.5       ┆ 0.0       ┆ 0.75     │\n",
      "│           ┆           ┆ 3         ┆ 4         ┆   ┆           ┆           ┆           ┆          │\n",
      "│           ┆           ┆ 23:46:44  ┆ 00:03:01  ┆   ┆           ┆           ┆           ┆          │\n",
      "│ max       ┆ 7.0       ┆ 2025-09-0 ┆ 2025-09-0 ┆ … ┆ 2123.44   ┆ 2.5       ┆ 6.75      ┆ 0.75     │\n",
      "│           ┆           ┆ 1         ┆ 2         ┆   ┆           ┆           ┆           ┆          │\n",
      "│           ┆           ┆ 00:00:29  ┆ 08:17:29  ┆   ┆           ┆           ┆           ┆          │\n",
      "└───────────┴───────────┴───────────┴───────────┴───┴───────────┴───────────┴───────────┴──────────┘\n",
      "\n",
      "Missing values per column:\n",
      "shape: (1, 20)\n",
      "┌──────────┬───────────┬───────────┬───────────┬───┬───────────┬───────────┬───────────┬───────────┐\n",
      "│ VendorID ┆ tpep_pick ┆ tpep_drop ┆ passenger ┆ … ┆ total_amo ┆ congestio ┆ Airport_f ┆ cbd_conge │\n",
      "│ ---      ┆ up_dateti ┆ off_datet ┆ _count    ┆   ┆ unt       ┆ n_surchar ┆ ee        ┆ stion_fee │\n",
      "│ u32      ┆ me        ┆ ime       ┆ ---       ┆   ┆ ---       ┆ ge        ┆ ---       ┆ ---       │\n",
      "│          ┆ ---       ┆ ---       ┆ u32       ┆   ┆ u32       ┆ ---       ┆ u32       ┆ u32       │\n",
      "│          ┆ u32       ┆ u32       ┆           ┆   ┆           ┆ u32       ┆           ┆           │\n",
      "╞══════════╪═══════════╪═══════════╪═══════════╪═══╪═══════════╪═══════════╪═══════════╪═══════════╡\n",
      "│ 0        ┆ 0         ┆ 0         ┆ 886234    ┆ … ┆ 0         ┆ 886234    ┆ 886234    ┆ 0         │\n",
      "└──────────┴───────────┴───────────┴───────────┴───┴───────────┴───────────┴───────────┴───────────┘\n"
     ]
    }
   ],
   "source": [
    "# Basic EDA\n",
    "\n",
    "print(\"Shape:\", trips.shape)\n",
    "\n",
    "print(\"\\nColumns and dtypes:\")\n",
    "print(trips.dtypes)\n",
    "\n",
    "print(\"\\nHead:\")\n",
    "print(trips.head())\n",
    "\n",
    "print(\"\\nSummary statistics:\")\n",
    "print(trips.describe())\n",
    "\n",
    "print(\"\\nMissing values per column:\")\n",
    "print(trips.null_count())"
   ]
  },
  {
   "cell_type": "markdown",
   "id": "bf889dcc",
   "metadata": {},
   "source": [
    "The general idea is to spin up a Kafka cluster locally w/ K8s. Then read the parquet file and generate/simulate a stream of data.\n",
    "\n",
    "More info: https://www.youtube.com/watch?v=5sqegy_EPa0"
   ]
  }
 ],
 "metadata": {
  "kernelspec": {
   "display_name": "big-data-project",
   "language": "python",
   "name": "python3"
  },
  "language_info": {
   "codemirror_mode": {
    "name": "ipython",
    "version": 3
   },
   "file_extension": ".py",
   "mimetype": "text/x-python",
   "name": "python",
   "nbconvert_exporter": "python",
   "pygments_lexer": "ipython3",
   "version": "3.11.6"
  }
 },
 "nbformat": 4,
 "nbformat_minor": 5
}
